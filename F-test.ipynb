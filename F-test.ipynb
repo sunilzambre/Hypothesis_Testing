{
 "cells": [
  {
   "cell_type": "code",
   "execution_count": 1,
   "id": "edf45319",
   "metadata": {},
   "outputs": [],
   "source": [
    "import scipy.stats as stat\n",
    "import numpy as np"
   ]
  },
  {
   "cell_type": "code",
   "execution_count": 2,
   "id": "aa16e09c",
   "metadata": {},
   "outputs": [],
   "source": [
    "#  Evidence to say that two population variance are not equal \n",
    "# In this data we are showing the workers produce bulb everyday in a factory\n",
    "# we have to apply F-test that which worker is producing more bulbs Or performing Better\n",
    "worker1 = [18,19,22,25,27,28,41,45,51,55]\n",
    "worker2 = [14,15,15,17,18,22,25,25,27,34]"
   ]
  },
  {
   "cell_type": "code",
   "execution_count": 3,
   "id": "95b18b05",
   "metadata": {},
   "outputs": [
    {
     "data": {
      "text/plain": [
       "4.387122002085506"
      ]
     },
     "execution_count": 3,
     "metadata": {},
     "output_type": "execute_result"
    }
   ],
   "source": [
    "# Calculating F-test\n",
    "F_test = np.var(worker1)/np.var(worker2)\n",
    "F_test"
   ]
  },
  {
   "cell_type": "code",
   "execution_count": 4,
   "id": "8d4bd5ed",
   "metadata": {},
   "outputs": [],
   "source": [
    "# Calculating Degree Of Freedom\n",
    "df1 = len(worker1) - 1\n",
    "df2 = len(worker2) - 1\n",
    "# Significance value\n",
    "significance_value = 0.05"
   ]
  },
  {
   "cell_type": "code",
   "execution_count": 5,
   "id": "48ffba4e",
   "metadata": {},
   "outputs": [
    {
     "data": {
      "text/plain": [
       "3.178893104458269"
      ]
     },
     "execution_count": 5,
     "metadata": {},
     "output_type": "execute_result"
    }
   ],
   "source": [
    "# Calculating the critical value\n",
    "critical_value = stat.f.ppf(q=1-significance_value,dfn = df1,dfd = df2) \n",
    "critical_value"
   ]
  },
  {
   "cell_type": "code",
   "execution_count": 6,
   "id": "ef79bde9",
   "metadata": {},
   "outputs": [
    {
     "name": "stdout",
     "output_type": "stream",
     "text": [
      "we reject the null hypothesis\n"
     ]
    }
   ],
   "source": [
    "# Conclusion\n",
    "if F_test > critical_value:\n",
    "    print('we reject the null hypothesis')\n",
    "else:\n",
    "    print('we fail to reject the null hypothesis')"
   ]
  }
 ],
 "metadata": {
  "kernelspec": {
   "display_name": "Python 3 (ipykernel)",
   "language": "python",
   "name": "python3"
  },
  "language_info": {
   "codemirror_mode": {
    "name": "ipython",
    "version": 3
   },
   "file_extension": ".py",
   "mimetype": "text/x-python",
   "name": "python",
   "nbconvert_exporter": "python",
   "pygments_lexer": "ipython3",
   "version": "3.9.12"
  }
 },
 "nbformat": 4,
 "nbformat_minor": 5
}
