{
 "cells": [
  {
   "cell_type": "markdown",
   "id": "baee9f8a",
   "metadata": {},
   "source": [
    "# Chi-Square Test"
   ]
  },
  {
   "cell_type": "markdown",
   "id": "b071d640",
   "metadata": {},
   "source": [
    "- The test is applied when you have two categorical variables from a single population.\n",
    "- We also compare variances.\n",
    "- It is used to determine whether there is a significant association between the two variables.\n",
    "- We use the function stats.chi2_contingency(contingency_table)\n",
    "- This function gives 4 values: chi-square statistic, p-value, df, expected values (matrix)\n",
    "- We calculate the chi-square critical value using chi2.ppf(q=1-alpha,df=df)\\\n",
    "- Compare p with alpha or chi_stat with chi_crit\n",
    "- For example, in an election survey, voters might be classified by gender (male or female) and shopping preference (Yes/No).\n",
    "- Here we can use a chi-square test for independence to determine whether gender is related to shopping preference"
   ]
  },
  {
   "cell_type": "code",
   "execution_count": 1,
   "id": "c6d9ba69",
   "metadata": {},
   "outputs": [],
   "source": [
    "import numpy as np\n",
    "import pandas as pd\n",
    "import matplotlib.pyplot as plt\n",
    "import seaborn as sns\n",
    "import scipy.stats as stats"
   ]
  },
  {
   "cell_type": "code",
   "execution_count": 2,
   "id": "7470f8c6",
   "metadata": {},
   "outputs": [],
   "source": [
    "H0 = \"There is no relationship between the categorical variables\"\n",
    "H1 = \"There is a relationship between the categorical variables\""
   ]
  },
  {
   "cell_type": "code",
   "execution_count": 3,
   "id": "67162178",
   "metadata": {},
   "outputs": [
    {
     "data": {
      "text/html": [
       "<div>\n",
       "<style scoped>\n",
       "    .dataframe tbody tr th:only-of-type {\n",
       "        vertical-align: middle;\n",
       "    }\n",
       "\n",
       "    .dataframe tbody tr th {\n",
       "        vertical-align: top;\n",
       "    }\n",
       "\n",
       "    .dataframe thead th {\n",
       "        text-align: right;\n",
       "    }\n",
       "</style>\n",
       "<table border=\"1\" class=\"dataframe\">\n",
       "  <thead>\n",
       "    <tr style=\"text-align: right;\">\n",
       "      <th></th>\n",
       "      <th>Unnamed: 0</th>\n",
       "      <th>Gender</th>\n",
       "      <th>Like Shopping?</th>\n",
       "    </tr>\n",
       "  </thead>\n",
       "  <tbody>\n",
       "    <tr>\n",
       "      <th>0</th>\n",
       "      <td>0</td>\n",
       "      <td>Male</td>\n",
       "      <td>No</td>\n",
       "    </tr>\n",
       "    <tr>\n",
       "      <th>1</th>\n",
       "      <td>1</td>\n",
       "      <td>Female</td>\n",
       "      <td>Yes</td>\n",
       "    </tr>\n",
       "    <tr>\n",
       "      <th>2</th>\n",
       "      <td>2</td>\n",
       "      <td>Male</td>\n",
       "      <td>Yes</td>\n",
       "    </tr>\n",
       "    <tr>\n",
       "      <th>3</th>\n",
       "      <td>3</td>\n",
       "      <td>Female</td>\n",
       "      <td>Yes</td>\n",
       "    </tr>\n",
       "    <tr>\n",
       "      <th>4</th>\n",
       "      <td>4</td>\n",
       "      <td>Female</td>\n",
       "      <td>Yes</td>\n",
       "    </tr>\n",
       "  </tbody>\n",
       "</table>\n",
       "</div>"
      ],
      "text/plain": [
       "   Unnamed: 0  Gender Like Shopping?\n",
       "0           0    Male             No\n",
       "1           1  Female            Yes\n",
       "2           2    Male            Yes\n",
       "3           3  Female            Yes\n",
       "4           4  Female            Yes"
      ]
     },
     "execution_count": 3,
     "metadata": {},
     "output_type": "execute_result"
    }
   ],
   "source": [
    "df = pd.read_excel('chi-test.xlsx')\n",
    "df.head()"
   ]
  },
  {
   "cell_type": "code",
   "execution_count": 4,
   "id": "510a7a90",
   "metadata": {},
   "outputs": [
    {
     "data": {
      "text/html": [
       "<div>\n",
       "<style scoped>\n",
       "    .dataframe tbody tr th:only-of-type {\n",
       "        vertical-align: middle;\n",
       "    }\n",
       "\n",
       "    .dataframe tbody tr th {\n",
       "        vertical-align: top;\n",
       "    }\n",
       "\n",
       "    .dataframe thead th {\n",
       "        text-align: right;\n",
       "    }\n",
       "</style>\n",
       "<table border=\"1\" class=\"dataframe\">\n",
       "  <thead>\n",
       "    <tr style=\"text-align: right;\">\n",
       "      <th></th>\n",
       "      <th>Gender</th>\n",
       "      <th>Like Shopping?</th>\n",
       "    </tr>\n",
       "  </thead>\n",
       "  <tbody>\n",
       "    <tr>\n",
       "      <th>0</th>\n",
       "      <td>Male</td>\n",
       "      <td>No</td>\n",
       "    </tr>\n",
       "    <tr>\n",
       "      <th>1</th>\n",
       "      <td>Female</td>\n",
       "      <td>Yes</td>\n",
       "    </tr>\n",
       "    <tr>\n",
       "      <th>2</th>\n",
       "      <td>Male</td>\n",
       "      <td>Yes</td>\n",
       "    </tr>\n",
       "    <tr>\n",
       "      <th>3</th>\n",
       "      <td>Female</td>\n",
       "      <td>Yes</td>\n",
       "    </tr>\n",
       "    <tr>\n",
       "      <th>4</th>\n",
       "      <td>Female</td>\n",
       "      <td>Yes</td>\n",
       "    </tr>\n",
       "    <tr>\n",
       "      <th>5</th>\n",
       "      <td>Female</td>\n",
       "      <td>No</td>\n",
       "    </tr>\n",
       "    <tr>\n",
       "      <th>6</th>\n",
       "      <td>Female</td>\n",
       "      <td>No</td>\n",
       "    </tr>\n",
       "    <tr>\n",
       "      <th>7</th>\n",
       "      <td>Male</td>\n",
       "      <td>No</td>\n",
       "    </tr>\n",
       "    <tr>\n",
       "      <th>8</th>\n",
       "      <td>Male</td>\n",
       "      <td>Yes</td>\n",
       "    </tr>\n",
       "  </tbody>\n",
       "</table>\n",
       "</div>"
      ],
      "text/plain": [
       "   Gender Like Shopping?\n",
       "0    Male             No\n",
       "1  Female            Yes\n",
       "2    Male            Yes\n",
       "3  Female            Yes\n",
       "4  Female            Yes\n",
       "5  Female             No\n",
       "6  Female             No\n",
       "7    Male             No\n",
       "8    Male            Yes"
      ]
     },
     "execution_count": 4,
     "metadata": {},
     "output_type": "execute_result"
    }
   ],
   "source": [
    "df.drop(['Unnamed: 0'],axis=1)"
   ]
  },
  {
   "cell_type": "markdown",
   "id": "717a1337",
   "metadata": {},
   "source": [
    "## Step 1: Let's first calculate the cross table"
   ]
  },
  {
   "cell_type": "code",
   "execution_count": 5,
   "id": "1af260d2",
   "metadata": {},
   "outputs": [
    {
     "name": "stdout",
     "output_type": "stream",
     "text": [
      "contingency_table :-\n",
      " Like Shopping?  No  Yes\n",
      "Gender                 \n",
      "Female           2    3\n",
      "Male             2    2\n"
     ]
    }
   ],
   "source": [
    "contingency_table = pd.crosstab(df[\"Gender\"],df[\"Like Shopping?\"])\n",
    "print('contingency_table :-\\n',contingency_table)"
   ]
  },
  {
   "cell_type": "code",
   "execution_count": 6,
   "id": "4a5459eb",
   "metadata": {},
   "outputs": [
    {
     "name": "stdout",
     "output_type": "stream",
     "text": [
      "alpha = 0.05\n"
     ]
    }
   ],
   "source": [
    "# dof = (contingency_table.shape[0] -1)*(contingency_table.shape[1] -1) # dof = (r-1)*(c-1) of CTable\n",
    "# print(\"Degree of Freedom:\",dof) ## dof will be given by the chi2 function itself\n",
    "\n",
    "alpha = 0.05 # assumed\n",
    "print('alpha =', alpha)"
   ]
  },
  {
   "cell_type": "markdown",
   "id": "0169abba",
   "metadata": {},
   "source": [
    "## Step 2: Extract the contingency matrix of numbers alone. These will be the observed frequencies"
   ]
  },
  {
   "cell_type": "code",
   "execution_count": 7,
   "id": "9a94026e",
   "metadata": {},
   "outputs": [
    {
     "name": "stdout",
     "output_type": "stream",
     "text": [
      "Observed Values :-\n",
      " [[2 3]\n",
      " [2 2]]\n"
     ]
    }
   ],
   "source": [
    "#Observed Values\n",
    "Observed_freq = contingency_table.values \n",
    "print(\"Observed Values :-\\n\",Observed_freq)"
   ]
  },
  {
   "cell_type": "markdown",
   "id": "fd19b113",
   "metadata": {},
   "source": [
    "### Step 3: We calculate the p_value using the functionstats.chi2_contingency(Observed_freq) "
   ]
  },
  {
   "cell_type": "code",
   "execution_count": 8,
   "id": "e5918fe0",
   "metadata": {},
   "outputs": [
    {
     "name": "stdout",
     "output_type": "stream",
     "text": [
      "chi_statistic =  0.0 p =  1.0\n"
     ]
    }
   ],
   "source": [
    "chi_stat, p, dof, expected_values=stats.chi2_contingency(Observed_freq)\n",
    "print(\"chi_statistic = \", chi_stat, \"p = \", p)"
   ]
  },
  {
   "cell_type": "markdown",
   "id": "d4b48e4d",
   "metadata": {},
   "source": [
    "## Step 4: We calculate the chi-square critical value"
   ]
  },
  {
   "cell_type": "code",
   "execution_count": 9,
   "id": "a1bd9332",
   "metadata": {},
   "outputs": [
    {
     "name": "stdout",
     "output_type": "stream",
     "text": [
      "critical_value: 3.841458820694124\n"
     ]
    }
   ],
   "source": [
    "chi_crit = stats.chi2.ppf(1-alpha,df=dof)\n",
    "print('critical_value:',chi_crit)"
   ]
  },
  {
   "cell_type": "markdown",
   "id": "6a038381",
   "metadata": {},
   "source": [
    "## Step 5: Compare p with alpha or chi_statistic with chi_critical"
   ]
  },
  {
   "cell_type": "code",
   "execution_count": 10,
   "id": "1c0d0367",
   "metadata": {},
   "outputs": [
    {
     "name": "stdout",
     "output_type": "stream",
     "text": [
      "p-value: 1.0\n",
      "Significance level:  0.05\n",
      "Degree of Freedom:  1\n",
      "chi-square statistic: 0.0\n",
      "critical_value: 3.841458820694124\n"
     ]
    }
   ],
   "source": [
    "print('p-value:',p)\n",
    "print('Significance level: ',alpha)\n",
    "print('Degree of Freedom: ',dof)\n",
    "print('chi-square statistic:',chi_stat)\n",
    "print('critical_value:',chi_crit)"
   ]
  },
  {
   "cell_type": "code",
   "execution_count": 11,
   "id": "5478b242",
   "metadata": {},
   "outputs": [
    {
     "name": "stdout",
     "output_type": "stream",
     "text": [
      "From chi-square value:\n",
      "Failed to reject the null hypothesis. There is no relationship between the categorical variables\n",
      "-----------------------------------------------------------------------------------------------\n",
      "\n",
      "From p-value:\n",
      "Failed to reject the null hypothesis. There is no relationship between the categorical variables\n"
     ]
    }
   ],
   "source": [
    "print('From chi-square value:')\n",
    "\n",
    "if chi_stat  >= chi_crit:\n",
    "    print(\"Reject null hypothesis.\", H1)\n",
    "else:\n",
    "    print(\"Failed to reject the null hypothesis.\", H0)\n",
    "\n",
    "print(\"-\" * 95)\n",
    "print('\\nFrom p-value:')\n",
    "\n",
    "if p <= alpha:\n",
    "    print(\"Reject null hypothesis.\", H1)\n",
    "else:\n",
    "    print(\"Failed to reject the null hypothesis.\", H0)"
   ]
  },
  {
   "cell_type": "markdown",
   "id": "6aa12017",
   "metadata": {},
   "source": [
    "**The following is the income data of blue collar workers who are at the same skill level. There are two groups of workers Workers of the textile company “Lori’s and Co.” and workers of the general population. We want to check weather the variance in the income of Lori’s is higher than of the general population.**\n",
    "\n",
    "- Mean and variance of general population = 100, 16.11\n",
    "\n",
    "- Lori’s : 105, 95, 90, 98, 110, 104, 108, 111, 110, 102, 98, 105, 105, 105, 115\n",
    "\n",
    "**Solution**\n",
    "𝐻_0 : 𝑣_l = 𝑣_𝑝 (variance in income of Lori’s is same as the population)\n",
    "\n",
    "𝐻_𝑎 : 𝑣_l > 𝑣_𝑝 (variance in income of Lori’s is higher than the population)"
   ]
  },
  {
   "cell_type": "code",
   "execution_count": 12,
   "id": "61551574",
   "metadata": {},
   "outputs": [],
   "source": [
    "H_0 = 'Variance in income of Lori’s is same as the population'\n",
    "H_a = 'Variance in income of Lori’s is higher than the population'"
   ]
  },
  {
   "cell_type": "code",
   "execution_count": 13,
   "id": "386578c6",
   "metadata": {},
   "outputs": [],
   "source": [
    "sigma_sq = 16.11 #variance"
   ]
  },
  {
   "cell_type": "code",
   "execution_count": 14,
   "id": "b787e8d3",
   "metadata": {},
   "outputs": [],
   "source": [
    "x = [105, 95, 90, 98, 110, 104, 108, 111, 110, 102, 98, 105, 105, 105, 115]"
   ]
  },
  {
   "cell_type": "code",
   "execution_count": 15,
   "id": "0031ddba",
   "metadata": {},
   "outputs": [],
   "source": [
    "alpha = 0.05"
   ]
  },
  {
   "cell_type": "code",
   "execution_count": 16,
   "id": "86e60190",
   "metadata": {},
   "outputs": [],
   "source": [
    "#Python doesnot have in-built function of chi square test of variance."
   ]
  },
  {
   "cell_type": "code",
   "execution_count": 17,
   "id": "d334c2ff",
   "metadata": {},
   "outputs": [],
   "source": [
    "def chi2_variance(x, pop_var):\n",
    "    \n",
    "    n = len(x)\n",
    "    dof = n-1\n",
    "    chi_stat = (dof*(np.array(x).std())**2)/pop_var\n",
    "    \n",
    "    p_value = 1 - round(stats.chi2.cdf(chi_stat, df = dof),4)\n",
    "    \n",
    "    return chi_stat, p_value, dof"
   ]
  },
  {
   "cell_type": "code",
   "execution_count": 18,
   "id": "ec99b226",
   "metadata": {},
   "outputs": [
    {
     "data": {
      "text/plain": [
       "(35.62618111593904, 0.0011999999999999789)"
      ]
     },
     "execution_count": 18,
     "metadata": {},
     "output_type": "execute_result"
    }
   ],
   "source": [
    "chi_stat, p_value, dof = chi2_variance(x, sigma_sq)\n",
    "chi_stat, p_value"
   ]
  },
  {
   "cell_type": "code",
   "execution_count": 19,
   "id": "1be9b98b",
   "metadata": {},
   "outputs": [
    {
     "name": "stdout",
     "output_type": "stream",
     "text": [
      "critical_value: 23.684791304840576\n"
     ]
    }
   ],
   "source": [
    "chi_crit = stats.chi2.ppf(1-alpha, df = dof)\n",
    "print('critical_value:',chi_crit)"
   ]
  },
  {
   "cell_type": "code",
   "execution_count": 20,
   "id": "f5dfab3e",
   "metadata": {},
   "outputs": [
    {
     "name": "stdout",
     "output_type": "stream",
     "text": [
      "From chi-square value:\n",
      "Reject null hypothesis. Variance in income of Lori’s is higher than the population\n",
      "=====================================================================================\n",
      "\n",
      "From p-value:\n",
      "Reject null hypothesis. Variance in income of Lori’s is higher than the population\n"
     ]
    }
   ],
   "source": [
    "print('From chi-square value:')\n",
    "\n",
    "if chi_stat  >= chi_crit:\n",
    "    print(\"Reject null hypothesis.\", H_a)\n",
    "else:\n",
    "    print(\"Failed to reject the null hypothesis.\", H_0)\n",
    "\n",
    "print(\"=\" * 85)\n",
    "print('\\nFrom p-value:')\n",
    "\n",
    "if p_value <= alpha:\n",
    "    print(\"Reject null hypothesis.\", H_a)\n",
    "else:\n",
    "    print(\"Failed to reject the null hypothesis.\", H_0)"
   ]
  },
  {
   "cell_type": "markdown",
   "id": "3365d510",
   "metadata": {},
   "source": [
    "**Question:A die is thrown 132 times with the following results**   <br>\n",
    "**Number turned up :**1      2       3        4        5       6   <br>\n",
    "       **Frequency :**15     20      25       14       29      28   <br>\n",
    " Is the die unbiased?"
   ]
  },
  {
   "cell_type": "code",
   "execution_count": 21,
   "id": "5d29a0ef",
   "metadata": {},
   "outputs": [],
   "source": [
    "𝐻_0 = 'Die is unbiased'\n",
    "𝐻_𝑎 = 'Die is biased'"
   ]
  },
  {
   "cell_type": "code",
   "execution_count": 22,
   "id": "0bd6dee8",
   "metadata": {},
   "outputs": [],
   "source": [
    "freq_obs = [15, 20, 25, 14, 29, 28]"
   ]
  },
  {
   "cell_type": "code",
   "execution_count": 23,
   "id": "b8f20b03",
   "metadata": {},
   "outputs": [],
   "source": [
    "n_trials = 132\n",
    "n = 6 # no of actual outcomes (from observed table)\n",
    "prob = 1/6 # for 1 trial\n",
    "alpha = 0.05"
   ]
  },
  {
   "cell_type": "code",
   "execution_count": 24,
   "id": "11c6acae",
   "metadata": {},
   "outputs": [
    {
     "data": {
      "text/plain": [
       "[22.0, 22.0, 22.0, 22.0, 22.0, 22.0]"
      ]
     },
     "execution_count": 24,
     "metadata": {},
     "output_type": "execute_result"
    }
   ],
   "source": [
    "freq_exp = [prob * n_trials] * n\n",
    "freq_exp"
   ]
  },
  {
   "cell_type": "code",
   "execution_count": 26,
   "id": "1034dd54",
   "metadata": {},
   "outputs": [],
   "source": [
    "obs_sum = sum(freq_obs)\n",
    "exp_sum = sum(freq_exp)\n",
    "\n",
    "obs_scaled = [obs_val * (exp_sum / obs_sum) for obs_val in freq_obs]\n",
    "\n",
    "chi_stat, p_value = stats.chisquare(obs_scaled, f_exp=freq_exp)"
   ]
  },
  {
   "cell_type": "code",
   "execution_count": 27,
   "id": "3a26f4bb",
   "metadata": {},
   "outputs": [
    {
     "data": {
      "text/plain": [
       "(9.730202202668842, 0.08325090417413197)"
      ]
     },
     "execution_count": 27,
     "metadata": {},
     "output_type": "execute_result"
    }
   ],
   "source": [
    "chi_stat, p_value"
   ]
  },
  {
   "cell_type": "code",
   "execution_count": 28,
   "id": "198f5095",
   "metadata": {},
   "outputs": [
    {
     "name": "stdout",
     "output_type": "stream",
     "text": [
      "From p-value:\n",
      "We Failed to reject the null hypothesis. Die is unbiased\n"
     ]
    }
   ],
   "source": [
    "print('From p-value:')\n",
    "\n",
    "if p_value <= alpha:\n",
    "    print(\"We Reject null hypothesis.\", 𝐻_𝑎)\n",
    "else:\n",
    "    print(\"We Failed to reject the null hypothesis.\", 𝐻_0)"
   ]
  },
  {
   "cell_type": "code",
   "execution_count": 29,
   "id": "3d4d0aa3",
   "metadata": {},
   "outputs": [
    {
     "data": {
      "text/plain": [
       "11.070497693516351"
      ]
     },
     "execution_count": 29,
     "metadata": {},
     "output_type": "execute_result"
    }
   ],
   "source": [
    "chi_crit = stats.chi2.ppf(1-alpha, df = n-1)\n",
    "chi_crit"
   ]
  },
  {
   "cell_type": "code",
   "execution_count": 30,
   "id": "488b1f6f",
   "metadata": {},
   "outputs": [
    {
     "name": "stdout",
     "output_type": "stream",
     "text": [
      "From chi-square value:\n",
      "Failed to reject the null hypothesis. Die is unbiased\n"
     ]
    }
   ],
   "source": [
    "print('From chi-square value:')\n",
    "\n",
    "if chi_stat  >= chi_crit:\n",
    "    print(\"Reject null hypothesis.\", 𝐻_𝑎)\n",
    "else:\n",
    "    print(\"Failed to reject the null hypothesis.\", 𝐻_0)"
   ]
  }
 ],
 "metadata": {
  "kernelspec": {
   "display_name": "Python 3 (ipykernel)",
   "language": "python",
   "name": "python3"
  },
  "language_info": {
   "codemirror_mode": {
    "name": "ipython",
    "version": 3
   },
   "file_extension": ".py",
   "mimetype": "text/x-python",
   "name": "python",
   "nbconvert_exporter": "python",
   "pygments_lexer": "ipython3",
   "version": "3.9.12"
  }
 },
 "nbformat": 4,
 "nbformat_minor": 5
}
