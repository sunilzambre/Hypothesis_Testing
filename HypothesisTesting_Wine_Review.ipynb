{
 "cells": [
  {
   "cell_type": "code",
   "execution_count": 1,
   "id": "bb33aebc",
   "metadata": {},
   "outputs": [],
   "source": [
    "import numpy as np\n",
    "import pandas as pd\n",
    "import matplotlib.pyplot as plt\n",
    "import seaborn as sns\n",
    "import scipy.stats as stats"
   ]
  },
  {
   "cell_type": "code",
   "execution_count": 2,
   "id": "fbd55060",
   "metadata": {},
   "outputs": [],
   "source": [
    "wine_data = pd.read_csv(\"wine_review_data.csv\")"
   ]
  },
  {
   "cell_type": "code",
   "execution_count": 3,
   "id": "c5262c3d",
   "metadata": {},
   "outputs": [
    {
     "data": {
      "text/html": [
       "<div>\n",
       "<style scoped>\n",
       "    .dataframe tbody tr th:only-of-type {\n",
       "        vertical-align: middle;\n",
       "    }\n",
       "\n",
       "    .dataframe tbody tr th {\n",
       "        vertical-align: top;\n",
       "    }\n",
       "\n",
       "    .dataframe thead th {\n",
       "        text-align: right;\n",
       "    }\n",
       "</style>\n",
       "<table border=\"1\" class=\"dataframe\">\n",
       "  <thead>\n",
       "    <tr style=\"text-align: right;\">\n",
       "      <th></th>\n",
       "      <th>Unnamed: 0</th>\n",
       "      <th>country</th>\n",
       "      <th>description</th>\n",
       "      <th>designation</th>\n",
       "      <th>points</th>\n",
       "      <th>price</th>\n",
       "      <th>province</th>\n",
       "      <th>region_1</th>\n",
       "      <th>region_2</th>\n",
       "      <th>taster_name</th>\n",
       "      <th>taster_twitter_handle</th>\n",
       "      <th>title</th>\n",
       "      <th>variety</th>\n",
       "      <th>winery</th>\n",
       "    </tr>\n",
       "  </thead>\n",
       "  <tbody>\n",
       "    <tr>\n",
       "      <th>0</th>\n",
       "      <td>0</td>\n",
       "      <td>Italy</td>\n",
       "      <td>Aromas include tropical fruit, broom, brimston...</td>\n",
       "      <td>Vulkà Bianco</td>\n",
       "      <td>87</td>\n",
       "      <td>NaN</td>\n",
       "      <td>Sicily &amp; Sardinia</td>\n",
       "      <td>Etna</td>\n",
       "      <td>NaN</td>\n",
       "      <td>Kerin O’Keefe</td>\n",
       "      <td>@kerinokeefe</td>\n",
       "      <td>Nicosia 2013 Vulkà Bianco  (Etna)</td>\n",
       "      <td>White Blend</td>\n",
       "      <td>Nicosia</td>\n",
       "    </tr>\n",
       "    <tr>\n",
       "      <th>1</th>\n",
       "      <td>1</td>\n",
       "      <td>Portugal</td>\n",
       "      <td>This is ripe and fruity, a wine that is smooth...</td>\n",
       "      <td>Avidagos</td>\n",
       "      <td>87</td>\n",
       "      <td>15.0</td>\n",
       "      <td>Douro</td>\n",
       "      <td>NaN</td>\n",
       "      <td>NaN</td>\n",
       "      <td>Roger Voss</td>\n",
       "      <td>@vossroger</td>\n",
       "      <td>Quinta dos Avidagos 2011 Avidagos Red (Douro)</td>\n",
       "      <td>Portuguese Red</td>\n",
       "      <td>Quinta dos Avidagos</td>\n",
       "    </tr>\n",
       "    <tr>\n",
       "      <th>2</th>\n",
       "      <td>2</td>\n",
       "      <td>US</td>\n",
       "      <td>Tart and snappy, the flavors of lime flesh and...</td>\n",
       "      <td>NaN</td>\n",
       "      <td>87</td>\n",
       "      <td>14.0</td>\n",
       "      <td>Oregon</td>\n",
       "      <td>Willamette Valley</td>\n",
       "      <td>Willamette Valley</td>\n",
       "      <td>Paul Gregutt</td>\n",
       "      <td>@paulgwine</td>\n",
       "      <td>Rainstorm 2013 Pinot Gris (Willamette Valley)</td>\n",
       "      <td>Pinot Gris</td>\n",
       "      <td>Rainstorm</td>\n",
       "    </tr>\n",
       "    <tr>\n",
       "      <th>3</th>\n",
       "      <td>3</td>\n",
       "      <td>US</td>\n",
       "      <td>Pineapple rind, lemon pith and orange blossom ...</td>\n",
       "      <td>Reserve Late Harvest</td>\n",
       "      <td>87</td>\n",
       "      <td>13.0</td>\n",
       "      <td>Michigan</td>\n",
       "      <td>Lake Michigan Shore</td>\n",
       "      <td>NaN</td>\n",
       "      <td>Alexander Peartree</td>\n",
       "      <td>NaN</td>\n",
       "      <td>St. Julian 2013 Reserve Late Harvest Riesling ...</td>\n",
       "      <td>Riesling</td>\n",
       "      <td>St. Julian</td>\n",
       "    </tr>\n",
       "    <tr>\n",
       "      <th>4</th>\n",
       "      <td>4</td>\n",
       "      <td>US</td>\n",
       "      <td>Much like the regular bottling from 2012, this...</td>\n",
       "      <td>Vintner's Reserve Wild Child Block</td>\n",
       "      <td>87</td>\n",
       "      <td>65.0</td>\n",
       "      <td>Oregon</td>\n",
       "      <td>Willamette Valley</td>\n",
       "      <td>Willamette Valley</td>\n",
       "      <td>Paul Gregutt</td>\n",
       "      <td>@paulgwine</td>\n",
       "      <td>Sweet Cheeks 2012 Vintner's Reserve Wild Child...</td>\n",
       "      <td>Pinot Noir</td>\n",
       "      <td>Sweet Cheeks</td>\n",
       "    </tr>\n",
       "    <tr>\n",
       "      <th>...</th>\n",
       "      <td>...</td>\n",
       "      <td>...</td>\n",
       "      <td>...</td>\n",
       "      <td>...</td>\n",
       "      <td>...</td>\n",
       "      <td>...</td>\n",
       "      <td>...</td>\n",
       "      <td>...</td>\n",
       "      <td>...</td>\n",
       "      <td>...</td>\n",
       "      <td>...</td>\n",
       "      <td>...</td>\n",
       "      <td>...</td>\n",
       "      <td>...</td>\n",
       "    </tr>\n",
       "    <tr>\n",
       "      <th>129966</th>\n",
       "      <td>129966</td>\n",
       "      <td>Germany</td>\n",
       "      <td>Notes of honeysuckle and cantaloupe sweeten th...</td>\n",
       "      <td>Brauneberger Juffer-Sonnenuhr Spätlese</td>\n",
       "      <td>90</td>\n",
       "      <td>28.0</td>\n",
       "      <td>Mosel</td>\n",
       "      <td>NaN</td>\n",
       "      <td>NaN</td>\n",
       "      <td>Anna Lee C. Iijima</td>\n",
       "      <td>NaN</td>\n",
       "      <td>Dr. H. Thanisch (Erben Müller-Burggraef) 2013 ...</td>\n",
       "      <td>Riesling</td>\n",
       "      <td>Dr. H. Thanisch (Erben Müller-Burggraef)</td>\n",
       "    </tr>\n",
       "    <tr>\n",
       "      <th>129967</th>\n",
       "      <td>129967</td>\n",
       "      <td>US</td>\n",
       "      <td>Citation is given as much as a decade of bottl...</td>\n",
       "      <td>NaN</td>\n",
       "      <td>90</td>\n",
       "      <td>75.0</td>\n",
       "      <td>Oregon</td>\n",
       "      <td>Oregon</td>\n",
       "      <td>Oregon Other</td>\n",
       "      <td>Paul Gregutt</td>\n",
       "      <td>@paulgwine</td>\n",
       "      <td>Citation 2004 Pinot Noir (Oregon)</td>\n",
       "      <td>Pinot Noir</td>\n",
       "      <td>Citation</td>\n",
       "    </tr>\n",
       "    <tr>\n",
       "      <th>129968</th>\n",
       "      <td>129968</td>\n",
       "      <td>France</td>\n",
       "      <td>Well-drained gravel soil gives this wine its c...</td>\n",
       "      <td>Kritt</td>\n",
       "      <td>90</td>\n",
       "      <td>30.0</td>\n",
       "      <td>Alsace</td>\n",
       "      <td>Alsace</td>\n",
       "      <td>NaN</td>\n",
       "      <td>Roger Voss</td>\n",
       "      <td>@vossroger</td>\n",
       "      <td>Domaine Gresser 2013 Kritt Gewurztraminer (Als...</td>\n",
       "      <td>Gewürztraminer</td>\n",
       "      <td>Domaine Gresser</td>\n",
       "    </tr>\n",
       "    <tr>\n",
       "      <th>129969</th>\n",
       "      <td>129969</td>\n",
       "      <td>France</td>\n",
       "      <td>A dry style of Pinot Gris, this is crisp with ...</td>\n",
       "      <td>NaN</td>\n",
       "      <td>90</td>\n",
       "      <td>32.0</td>\n",
       "      <td>Alsace</td>\n",
       "      <td>Alsace</td>\n",
       "      <td>NaN</td>\n",
       "      <td>Roger Voss</td>\n",
       "      <td>@vossroger</td>\n",
       "      <td>Domaine Marcel Deiss 2012 Pinot Gris (Alsace)</td>\n",
       "      <td>Pinot Gris</td>\n",
       "      <td>Domaine Marcel Deiss</td>\n",
       "    </tr>\n",
       "    <tr>\n",
       "      <th>129970</th>\n",
       "      <td>129970</td>\n",
       "      <td>France</td>\n",
       "      <td>Big, rich and off-dry, this is powered by inte...</td>\n",
       "      <td>Lieu-dit Harth Cuvée Caroline</td>\n",
       "      <td>90</td>\n",
       "      <td>21.0</td>\n",
       "      <td>Alsace</td>\n",
       "      <td>Alsace</td>\n",
       "      <td>NaN</td>\n",
       "      <td>Roger Voss</td>\n",
       "      <td>@vossroger</td>\n",
       "      <td>Domaine Schoffit 2012 Lieu-dit Harth Cuvée Car...</td>\n",
       "      <td>Gewürztraminer</td>\n",
       "      <td>Domaine Schoffit</td>\n",
       "    </tr>\n",
       "  </tbody>\n",
       "</table>\n",
       "<p>129971 rows × 14 columns</p>\n",
       "</div>"
      ],
      "text/plain": [
       "        Unnamed: 0   country  \\\n",
       "0                0     Italy   \n",
       "1                1  Portugal   \n",
       "2                2        US   \n",
       "3                3        US   \n",
       "4                4        US   \n",
       "...            ...       ...   \n",
       "129966      129966   Germany   \n",
       "129967      129967        US   \n",
       "129968      129968    France   \n",
       "129969      129969    France   \n",
       "129970      129970    France   \n",
       "\n",
       "                                              description  \\\n",
       "0       Aromas include tropical fruit, broom, brimston...   \n",
       "1       This is ripe and fruity, a wine that is smooth...   \n",
       "2       Tart and snappy, the flavors of lime flesh and...   \n",
       "3       Pineapple rind, lemon pith and orange blossom ...   \n",
       "4       Much like the regular bottling from 2012, this...   \n",
       "...                                                   ...   \n",
       "129966  Notes of honeysuckle and cantaloupe sweeten th...   \n",
       "129967  Citation is given as much as a decade of bottl...   \n",
       "129968  Well-drained gravel soil gives this wine its c...   \n",
       "129969  A dry style of Pinot Gris, this is crisp with ...   \n",
       "129970  Big, rich and off-dry, this is powered by inte...   \n",
       "\n",
       "                                   designation  points  price  \\\n",
       "0                                 Vulkà Bianco      87    NaN   \n",
       "1                                     Avidagos      87   15.0   \n",
       "2                                          NaN      87   14.0   \n",
       "3                         Reserve Late Harvest      87   13.0   \n",
       "4           Vintner's Reserve Wild Child Block      87   65.0   \n",
       "...                                        ...     ...    ...   \n",
       "129966  Brauneberger Juffer-Sonnenuhr Spätlese      90   28.0   \n",
       "129967                                     NaN      90   75.0   \n",
       "129968                                   Kritt      90   30.0   \n",
       "129969                                     NaN      90   32.0   \n",
       "129970           Lieu-dit Harth Cuvée Caroline      90   21.0   \n",
       "\n",
       "                 province             region_1           region_2  \\\n",
       "0       Sicily & Sardinia                 Etna                NaN   \n",
       "1                   Douro                  NaN                NaN   \n",
       "2                  Oregon    Willamette Valley  Willamette Valley   \n",
       "3                Michigan  Lake Michigan Shore                NaN   \n",
       "4                  Oregon    Willamette Valley  Willamette Valley   \n",
       "...                   ...                  ...                ...   \n",
       "129966              Mosel                  NaN                NaN   \n",
       "129967             Oregon               Oregon       Oregon Other   \n",
       "129968             Alsace               Alsace                NaN   \n",
       "129969             Alsace               Alsace                NaN   \n",
       "129970             Alsace               Alsace                NaN   \n",
       "\n",
       "               taster_name taster_twitter_handle  \\\n",
       "0            Kerin O’Keefe          @kerinokeefe   \n",
       "1               Roger Voss            @vossroger   \n",
       "2             Paul Gregutt           @paulgwine    \n",
       "3       Alexander Peartree                   NaN   \n",
       "4             Paul Gregutt           @paulgwine    \n",
       "...                    ...                   ...   \n",
       "129966  Anna Lee C. Iijima                   NaN   \n",
       "129967        Paul Gregutt           @paulgwine    \n",
       "129968          Roger Voss            @vossroger   \n",
       "129969          Roger Voss            @vossroger   \n",
       "129970          Roger Voss            @vossroger   \n",
       "\n",
       "                                                    title         variety  \\\n",
       "0                       Nicosia 2013 Vulkà Bianco  (Etna)     White Blend   \n",
       "1           Quinta dos Avidagos 2011 Avidagos Red (Douro)  Portuguese Red   \n",
       "2           Rainstorm 2013 Pinot Gris (Willamette Valley)      Pinot Gris   \n",
       "3       St. Julian 2013 Reserve Late Harvest Riesling ...        Riesling   \n",
       "4       Sweet Cheeks 2012 Vintner's Reserve Wild Child...      Pinot Noir   \n",
       "...                                                   ...             ...   \n",
       "129966  Dr. H. Thanisch (Erben Müller-Burggraef) 2013 ...        Riesling   \n",
       "129967                  Citation 2004 Pinot Noir (Oregon)      Pinot Noir   \n",
       "129968  Domaine Gresser 2013 Kritt Gewurztraminer (Als...  Gewürztraminer   \n",
       "129969      Domaine Marcel Deiss 2012 Pinot Gris (Alsace)      Pinot Gris   \n",
       "129970  Domaine Schoffit 2012 Lieu-dit Harth Cuvée Car...  Gewürztraminer   \n",
       "\n",
       "                                          winery  \n",
       "0                                        Nicosia  \n",
       "1                            Quinta dos Avidagos  \n",
       "2                                      Rainstorm  \n",
       "3                                     St. Julian  \n",
       "4                                   Sweet Cheeks  \n",
       "...                                          ...  \n",
       "129966  Dr. H. Thanisch (Erben Müller-Burggraef)  \n",
       "129967                                  Citation  \n",
       "129968                           Domaine Gresser  \n",
       "129969                      Domaine Marcel Deiss  \n",
       "129970                          Domaine Schoffit  \n",
       "\n",
       "[129971 rows x 14 columns]"
      ]
     },
     "execution_count": 3,
     "metadata": {},
     "output_type": "execute_result"
    }
   ],
   "source": [
    "wine_data"
   ]
  },
  {
   "cell_type": "code",
   "execution_count": 4,
   "id": "665ff5e7",
   "metadata": {},
   "outputs": [
    {
     "data": {
      "text/html": [
       "<div>\n",
       "<style scoped>\n",
       "    .dataframe tbody tr th:only-of-type {\n",
       "        vertical-align: middle;\n",
       "    }\n",
       "\n",
       "    .dataframe tbody tr th {\n",
       "        vertical-align: top;\n",
       "    }\n",
       "\n",
       "    .dataframe thead th {\n",
       "        text-align: right;\n",
       "    }\n",
       "</style>\n",
       "<table border=\"1\" class=\"dataframe\">\n",
       "  <thead>\n",
       "    <tr style=\"text-align: right;\">\n",
       "      <th></th>\n",
       "      <th>Unnamed: 0</th>\n",
       "      <th>country</th>\n",
       "      <th>description</th>\n",
       "      <th>designation</th>\n",
       "      <th>points</th>\n",
       "      <th>price</th>\n",
       "      <th>province</th>\n",
       "      <th>region_1</th>\n",
       "      <th>region_2</th>\n",
       "      <th>taster_name</th>\n",
       "      <th>taster_twitter_handle</th>\n",
       "      <th>title</th>\n",
       "      <th>variety</th>\n",
       "      <th>winery</th>\n",
       "    </tr>\n",
       "  </thead>\n",
       "  <tbody>\n",
       "    <tr>\n",
       "      <th>0</th>\n",
       "      <td>0</td>\n",
       "      <td>Italy</td>\n",
       "      <td>Aromas include tropical fruit, broom, brimston...</td>\n",
       "      <td>Vulkà Bianco</td>\n",
       "      <td>87</td>\n",
       "      <td>NaN</td>\n",
       "      <td>Sicily &amp; Sardinia</td>\n",
       "      <td>Etna</td>\n",
       "      <td>NaN</td>\n",
       "      <td>Kerin O’Keefe</td>\n",
       "      <td>@kerinokeefe</td>\n",
       "      <td>Nicosia 2013 Vulkà Bianco  (Etna)</td>\n",
       "      <td>White Blend</td>\n",
       "      <td>Nicosia</td>\n",
       "    </tr>\n",
       "    <tr>\n",
       "      <th>1</th>\n",
       "      <td>1</td>\n",
       "      <td>Portugal</td>\n",
       "      <td>This is ripe and fruity, a wine that is smooth...</td>\n",
       "      <td>Avidagos</td>\n",
       "      <td>87</td>\n",
       "      <td>15.0</td>\n",
       "      <td>Douro</td>\n",
       "      <td>NaN</td>\n",
       "      <td>NaN</td>\n",
       "      <td>Roger Voss</td>\n",
       "      <td>@vossroger</td>\n",
       "      <td>Quinta dos Avidagos 2011 Avidagos Red (Douro)</td>\n",
       "      <td>Portuguese Red</td>\n",
       "      <td>Quinta dos Avidagos</td>\n",
       "    </tr>\n",
       "    <tr>\n",
       "      <th>2</th>\n",
       "      <td>2</td>\n",
       "      <td>US</td>\n",
       "      <td>Tart and snappy, the flavors of lime flesh and...</td>\n",
       "      <td>NaN</td>\n",
       "      <td>87</td>\n",
       "      <td>14.0</td>\n",
       "      <td>Oregon</td>\n",
       "      <td>Willamette Valley</td>\n",
       "      <td>Willamette Valley</td>\n",
       "      <td>Paul Gregutt</td>\n",
       "      <td>@paulgwine</td>\n",
       "      <td>Rainstorm 2013 Pinot Gris (Willamette Valley)</td>\n",
       "      <td>Pinot Gris</td>\n",
       "      <td>Rainstorm</td>\n",
       "    </tr>\n",
       "    <tr>\n",
       "      <th>3</th>\n",
       "      <td>3</td>\n",
       "      <td>US</td>\n",
       "      <td>Pineapple rind, lemon pith and orange blossom ...</td>\n",
       "      <td>Reserve Late Harvest</td>\n",
       "      <td>87</td>\n",
       "      <td>13.0</td>\n",
       "      <td>Michigan</td>\n",
       "      <td>Lake Michigan Shore</td>\n",
       "      <td>NaN</td>\n",
       "      <td>Alexander Peartree</td>\n",
       "      <td>NaN</td>\n",
       "      <td>St. Julian 2013 Reserve Late Harvest Riesling ...</td>\n",
       "      <td>Riesling</td>\n",
       "      <td>St. Julian</td>\n",
       "    </tr>\n",
       "    <tr>\n",
       "      <th>4</th>\n",
       "      <td>4</td>\n",
       "      <td>US</td>\n",
       "      <td>Much like the regular bottling from 2012, this...</td>\n",
       "      <td>Vintner's Reserve Wild Child Block</td>\n",
       "      <td>87</td>\n",
       "      <td>65.0</td>\n",
       "      <td>Oregon</td>\n",
       "      <td>Willamette Valley</td>\n",
       "      <td>Willamette Valley</td>\n",
       "      <td>Paul Gregutt</td>\n",
       "      <td>@paulgwine</td>\n",
       "      <td>Sweet Cheeks 2012 Vintner's Reserve Wild Child...</td>\n",
       "      <td>Pinot Noir</td>\n",
       "      <td>Sweet Cheeks</td>\n",
       "    </tr>\n",
       "  </tbody>\n",
       "</table>\n",
       "</div>"
      ],
      "text/plain": [
       "   Unnamed: 0   country                                        description  \\\n",
       "0           0     Italy  Aromas include tropical fruit, broom, brimston...   \n",
       "1           1  Portugal  This is ripe and fruity, a wine that is smooth...   \n",
       "2           2        US  Tart and snappy, the flavors of lime flesh and...   \n",
       "3           3        US  Pineapple rind, lemon pith and orange blossom ...   \n",
       "4           4        US  Much like the regular bottling from 2012, this...   \n",
       "\n",
       "                          designation  points  price           province  \\\n",
       "0                        Vulkà Bianco      87    NaN  Sicily & Sardinia   \n",
       "1                            Avidagos      87   15.0              Douro   \n",
       "2                                 NaN      87   14.0             Oregon   \n",
       "3                Reserve Late Harvest      87   13.0           Michigan   \n",
       "4  Vintner's Reserve Wild Child Block      87   65.0             Oregon   \n",
       "\n",
       "              region_1           region_2         taster_name  \\\n",
       "0                 Etna                NaN       Kerin O’Keefe   \n",
       "1                  NaN                NaN          Roger Voss   \n",
       "2    Willamette Valley  Willamette Valley        Paul Gregutt   \n",
       "3  Lake Michigan Shore                NaN  Alexander Peartree   \n",
       "4    Willamette Valley  Willamette Valley        Paul Gregutt   \n",
       "\n",
       "  taster_twitter_handle                                              title  \\\n",
       "0          @kerinokeefe                  Nicosia 2013 Vulkà Bianco  (Etna)   \n",
       "1            @vossroger      Quinta dos Avidagos 2011 Avidagos Red (Douro)   \n",
       "2           @paulgwine       Rainstorm 2013 Pinot Gris (Willamette Valley)   \n",
       "3                   NaN  St. Julian 2013 Reserve Late Harvest Riesling ...   \n",
       "4           @paulgwine   Sweet Cheeks 2012 Vintner's Reserve Wild Child...   \n",
       "\n",
       "          variety               winery  \n",
       "0     White Blend              Nicosia  \n",
       "1  Portuguese Red  Quinta dos Avidagos  \n",
       "2      Pinot Gris            Rainstorm  \n",
       "3        Riesling           St. Julian  \n",
       "4      Pinot Noir         Sweet Cheeks  "
      ]
     },
     "execution_count": 4,
     "metadata": {},
     "output_type": "execute_result"
    }
   ],
   "source": [
    "wine_data.head()"
   ]
  },
  {
   "cell_type": "markdown",
   "id": "70f9051e",
   "metadata": {},
   "source": [
    "# Z-test"
   ]
  },
  {
   "cell_type": "markdown",
   "id": "3dd43f7a",
   "metadata": {},
   "source": [
    "**Is A Sample of Wine Scores From the Wine Enthusiast Population**\n",
    "- The WineEnthusiast point scores are interval-scaled normally distributed data. Let's find the population mean and           population standard deviation.\n",
    " \n",
    "- A sample of N=10 wine point scores yields a sample mean of x_bar = 90.2. Is this sample from the WineEnthusiast             population? To test this question we will use what is refered to as a one-sample z-test. First we state the null           hypothesis and alternative hypothesis like this;\n",
    "\n",
    "- H0: The sample is from the WineEnthusiast population, x_bar = μ.\n",
    "- HA: The sample is not from the WineEnthusiast population, x_bar != (not equal) μ.\n",
    "\n",
    "**Process**\n",
    "1. We specify a significance (alpha) level, typically at 5%.\n",
    "\n",
    "2. Next, instead of using the z table to extarct z-critical which is a lenghty process; we should use stats.norm.ppf()        function\n",
    "- a) We use stats.norm.ppf(1-alpha, loc=0, scale=1) for one sided test\n",
    "- b) We use stats.norm.ppf(1-alpha/2, loc=0, scale=1) for two sided test\n",
    "3. Next, we calculate the p-value and z-statistic by using function weightstats.ztest(x,1 x2 = None, sample_mean) from        statsmodels.stats\n",
    "\n",
    "4. Next we compare the z-statitic with the z-critical or we can compare the p-value with alpha\n",
    "\n",
    "5. If z-statistic < z-critical or p-value > alpha, then we accept the null hypothesis & vice-versa."
   ]
  },
  {
   "cell_type": "code",
   "execution_count": 6,
   "id": "9d062f73",
   "metadata": {},
   "outputs": [],
   "source": [
    "from statsmodels.stats import weightstats"
   ]
  },
  {
   "cell_type": "code",
   "execution_count": 7,
   "id": "4ccee944",
   "metadata": {},
   "outputs": [
    {
     "name": "stdout",
     "output_type": "stream",
     "text": [
      "mu:  88.44713820775404 , sigma: 3.0397302029162336\n"
     ]
    }
   ],
   "source": [
    "# Given:\n",
    "alpha = 0.05\n",
    "sample_mean = 90.2\n",
    "x = wine_data['points']\n",
    "mu = x.mean()\n",
    "sigma = x.std() # by default ddof = 0, since population std; considering the entire column as population\n",
    "print(\"mu: \", mu, \", sigma:\", sigma)"
   ]
  },
  {
   "cell_type": "markdown",
   "id": "08dac273",
   "metadata": {},
   "source": [
    "- If we want to calculate sample standard deviation, we should use x.std(ddof = 1)"
   ]
  },
  {
   "cell_type": "markdown",
   "id": "d6c6c44d",
   "metadata": {},
   "source": [
    "## Step1: Calculate z-statistic and p-value to comapare it with alpha"
   ]
  },
  {
   "cell_type": "code",
   "execution_count": 8,
   "id": "7e1d65e7",
   "metadata": {},
   "outputs": [
    {
     "name": "stdout",
     "output_type": "stream",
     "text": [
      "-207.89108515615084 0.0\n"
     ]
    }
   ],
   "source": [
    "z_stat, p = weightstats.ztest(x1 = wine_data['points'], value = sample_mean) \n",
    "print(z_stat, p)"
   ]
  },
  {
   "cell_type": "code",
   "execution_count": 10,
   "id": "873e2ca4",
   "metadata": {},
   "outputs": [
    {
     "name": "stdout",
     "output_type": "stream",
     "text": [
      "We reject null hypothesis\n"
     ]
    }
   ],
   "source": [
    "if p < alpha:\n",
    "    print(\"We reject null hypothesis\")\n",
    "else:\n",
    "    print(\"We accept null hypothesis\")"
   ]
  },
  {
   "cell_type": "code",
   "execution_count": 11,
   "id": "d83e5766",
   "metadata": {},
   "outputs": [
    {
     "name": "stdout",
     "output_type": "stream",
     "text": [
      "-207.89108515615084 0.0\n"
     ]
    }
   ],
   "source": [
    "z_stat, p = weightstats.ztest(x1 = wine_data['points'], value = 90.2) \n",
    "print(z_stat, p)"
   ]
  },
  {
   "cell_type": "code",
   "execution_count": 12,
   "id": "095c16a0",
   "metadata": {},
   "outputs": [
    {
     "name": "stdout",
     "output_type": "stream",
     "text": [
      "-1370.1804587637616 0.0\n"
     ]
    }
   ],
   "source": [
    "z_stat, p = weightstats.ztest(x1 = wine_data['points'], value = 100) \n",
    "print(z_stat, p)"
   ]
  },
  {
   "cell_type": "code",
   "execution_count": 13,
   "id": "1f009be7",
   "metadata": {},
   "outputs": [
    {
     "name": "stdout",
     "output_type": "stream",
     "text": [
      "53.031019123109125 0.0\n"
     ]
    }
   ],
   "source": [
    "z_stat, p = weightstats.ztest(x1 = wine_data['points'], value = 88) \n",
    "print(z_stat, p)"
   ]
  },
  {
   "cell_type": "code",
   "execution_count": 14,
   "id": "50c16661",
   "metadata": {},
   "outputs": [
    {
     "name": "stdout",
     "output_type": "stream",
     "text": [
      "5.590636526879426 2.262387183113948e-08\n"
     ]
    }
   ],
   "source": [
    "z_stat, p = weightstats.ztest(x1 = wine_data['points'], value = 88.4) \n",
    "print(z_stat, p)"
   ]
  },
  {
   "cell_type": "code",
   "execution_count": 15,
   "id": "5644f7ca",
   "metadata": {},
   "outputs": [
    {
     "name": "stdout",
     "output_type": "stream",
     "text": [
      "2.0326078321621144 0.04209215959274512\n"
     ]
    }
   ],
   "source": [
    "z_stat, p = weightstats.ztest(x1 = wine_data['points'], value = 88.43) \n",
    "print(z_stat, p)"
   ]
  },
  {
   "cell_type": "code",
   "execution_count": 16,
   "id": "43814383",
   "metadata": {},
   "outputs": [
    {
     "name": "stdout",
     "output_type": "stream",
     "text": [
      "1.439603049709791 0.14997973631760209\n"
     ]
    }
   ],
   "source": [
    "z_stat, p = weightstats.ztest(x1 = wine_data['points'], value = 88.435) \n",
    "print(z_stat, p)"
   ]
  },
  {
   "cell_type": "code",
   "execution_count": 17,
   "id": "6008f90b",
   "metadata": {},
   "outputs": [
    {
     "name": "stdout",
     "output_type": "stream",
     "text": [
      "0.8465982672574676 0.3972190800696358\n"
     ]
    }
   ],
   "source": [
    "z_stat, p = weightstats.ztest(x1 = wine_data['points'], value = 88.44) \n",
    "print(z_stat, p)"
   ]
  },
  {
   "cell_type": "markdown",
   "id": "22473a24",
   "metadata": {},
   "source": [
    "## Step2: We can also extract z-critical to compare it with z-statistic"
   ]
  },
  {
   "cell_type": "code",
   "execution_count": 18,
   "id": "4bf4d7d5",
   "metadata": {},
   "outputs": [],
   "source": [
    "z_crit = stats.norm.ppf(1-alpha/2, loc=0, scale=1) # since it is a two sided test"
   ]
  },
  {
   "cell_type": "code",
   "execution_count": 20,
   "id": "33f6bc7a",
   "metadata": {},
   "outputs": [
    {
     "name": "stdout",
     "output_type": "stream",
     "text": [
      "We accept null hypothesis\n"
     ]
    }
   ],
   "source": [
    "if np.abs(z_stat) > np.abs(z_crit): # comparing same-sided values\n",
    "    print(\"We reject null hypothesis\")\n",
    "else:\n",
    "    print(\"We accept null hypothesis\")"
   ]
  },
  {
   "cell_type": "markdown",
   "id": "704c839b",
   "metadata": {},
   "source": [
    "- We compare z statistics with z critical or compare p value with alpha.\n",
    "- Now the z-statistic is greater than z-critical and we reject the null hypothesis.\n",
    "- Statistically speaking we say that this sample was drawn from some different population than the WineEnthusiast             population.\n",
    "- If I change the sample mean and make it closer to mu (pop mean), what happens?"
   ]
  },
  {
   "cell_type": "code",
   "execution_count": 21,
   "id": "606b84b3",
   "metadata": {},
   "outputs": [
    {
     "data": {
      "text/plain": [
       "88.44713820775404"
      ]
     },
     "execution_count": 21,
     "metadata": {},
     "output_type": "execute_result"
    }
   ],
   "source": [
    "mu"
   ]
  },
  {
   "cell_type": "code",
   "execution_count": 22,
   "id": "89b0a92e",
   "metadata": {},
   "outputs": [
    {
     "name": "stdout",
     "output_type": "stream",
     "text": [
      "-0.33941129764886485 0.7342999088990778\n"
     ]
    }
   ],
   "source": [
    "z_stat, p = weightstats.ztest(wine_data['points'], x2 = None, value = 88.45)\n",
    "print(z_stat, p)"
   ]
  },
  {
   "cell_type": "markdown",
   "id": "5dd8d685",
   "metadata": {},
   "source": [
    "- Since z_stat is less than z_critical we accept the null hypothesis and reject the althernative."
   ]
  },
  {
   "cell_type": "code",
   "execution_count": 23,
   "id": "a2802050",
   "metadata": {},
   "outputs": [
    {
     "name": "stdout",
     "output_type": "stream",
     "text": [
      "We accept null hypothesis\n"
     ]
    }
   ],
   "source": [
    "if p < alpha: # comparing same-sided values\n",
    "    print(\"We reject null hypothesis\")\n",
    "else:\n",
    "    print(\"We accept null hypothesis\")"
   ]
  },
  {
   "cell_type": "markdown",
   "id": "c68ef4eb",
   "metadata": {},
   "source": [
    "- Statistically speaking we say that this sample was indeed drawn from the WineEnthusiast population."
   ]
  },
  {
   "cell_type": "code",
   "execution_count": 25,
   "id": "5178b31e",
   "metadata": {},
   "outputs": [
    {
     "data": {
      "text/plain": [
       "(-6.269459122177156, 3.6230439015128957e-10)"
      ]
     },
     "execution_count": 25,
     "metadata": {},
     "output_type": "execute_result"
    }
   ],
   "source": [
    "weightstats.ztest(wine_data['points'], x2 = None, value = 88.5)"
   ]
  },
  {
   "cell_type": "markdown",
   "id": "d87e3ca2",
   "metadata": {},
   "source": [
    "## T-Tests"
   ]
  },
  {
   "cell_type": "markdown",
   "id": "eb78bd12",
   "metadata": {},
   "source": [
    "### Statistical Hypothesis Testing with T-Tests"
   ]
  },
  {
   "cell_type": "markdown",
   "id": "b6451fe0",
   "metadata": {},
   "source": [
    "- Do you have one sample that you want to compare to some spcified value? \n",
    "\n",
    "- Do a one-sample t-test. For example, let's say it is well known that acorns have an average mass of 10 g, and you want to   test to see if them mass of acorns from a forest subjected to acid rain are signifcantly different.\n",
    "\n",
    "- Do you have two independent samples that you want to compare to each other? Do an independent samples t-test. \n",
    "\n",
    "- For example, let's say you take samples of acorn from a forest upwind and downwind from a coal power plant and you want     to test to see if the average mass of the acorns from the two samples is the same.\n",
    "\n",
    "- Do you have two dependent samples taken from the same indidividuals or objects? Do a paired samples t-test. \n",
    "\n",
    "- For example, let's say you measure the average mass of acorns from 50 trees in a forest before and after the local power   plant converted from coal to natural gas and want to see if there is a difference in the masses pre-conversion to post-     conversion."
   ]
  },
  {
   "cell_type": "markdown",
   "id": "202a82a0",
   "metadata": {},
   "source": [
    "- We specify a significance (alpha) level, typically at 5%.\n",
    "\n",
    "- We calculate the p-value and z-statistic by using function stats.ttest_1samp(x, mean)\n",
    "\n",
    "  - a) For a two-tailed test, we have to compare alpha with p (p is returned for two-tailed by default)\n",
    "  - b) For a one-tailed test, we have to compare alpha with p/2\n",
    "- We can we should use stats.t.ppf() function\n",
    "  - a) We use stats.t.ppf(1-alpha, df) for one sided test\n",
    "  - b) We use stats.t.ppf(1-alpha/2, df) for two sided test\n",
    "- Next we compare the z-statitic with the z-critical or we can compare the p-value with alpha\n",
    "\n",
    "- If z-statistic < z-critical or p-value > alpha, then we accept the null hypothesis & vice-versa."
   ]
  },
  {
   "cell_type": "markdown",
   "id": "fcd70211",
   "metadata": {},
   "source": [
    "### One-sample location t-test on whether the mean of a population is equal to a value specified in null hypothesis"
   ]
  },
  {
   "cell_type": "markdown",
   "id": "47267132",
   "metadata": {},
   "source": [
    "**The mass of a sample of N=20 acorns from a forest subjected to acid rain from a coal power plant are**\n",
    "\n",
    "- m = 8.8, 6.6, 9.5, 11.2, 10.2, 7.4, 8.0, 9.6, 9.9, 9.0, 7.6, 7.4, 10.4, 11.1, 8.5, 10.0, 11.6, 10.7, 10.3, and 7.0 g.\n",
    "\n",
    "**Is the average mass of this sample different from the average mass of all acorns of μ = 10.0 g?**\n",
    "H0: x̄ - μ = 0, that is there is no difference between my sample mean and the value of μ.\n",
    "Ha: x̄ - μ ≠ 0 (two-sided test)\n",
    "α = 0.05\n",
    "**t-table**\n",
    "- degrees of freedom: df = N-1\n",
    "- t-critical for specified alpha level: t * = 2.093\n",
    "- t-statistic: t = (x̄ - μ) / (s/sqrt(N)) where s is the sample standard deviation."
   ]
  },
  {
   "cell_type": "code",
   "execution_count": 27,
   "id": "60bb31ff",
   "metadata": {},
   "outputs": [],
   "source": [
    "# Given:\n",
    "x = [8.8, 6.6, 9.5, 11.2, 10.2, 7.4, 8.0, 9.6, 9.9, 9.0, 7.6, 7.4, 10.4, 11.1, 8.5, 10.0, 11.6, 10.7, 10.3, 7.0]\n",
    "mu = 10\n",
    "alpha = 0.05"
   ]
  },
  {
   "cell_type": "code",
   "execution_count": 28,
   "id": "ae585d18",
   "metadata": {},
   "outputs": [],
   "source": [
    "df = len(x)-1\n",
    "x_bar = np.mean(x)"
   ]
  },
  {
   "cell_type": "code",
   "execution_count": 29,
   "id": "3bd1a940",
   "metadata": {},
   "outputs": [],
   "source": [
    "x_std = np.std(x)"
   ]
  },
  {
   "cell_type": "markdown",
   "id": "0fb6e480",
   "metadata": {},
   "source": [
    "## Step1: Calculate t-statistic and p-value to compare it with alpha"
   ]
  },
  {
   "cell_type": "code",
   "execution_count": 30,
   "id": "cf94e3d6",
   "metadata": {},
   "outputs": [
    {
     "name": "stdout",
     "output_type": "stream",
     "text": [
      "t-statistic =  -2.2491611580763973 , p =  0.03655562279112415\n"
     ]
    }
   ],
   "source": [
    "t_stat, p = stats.ttest_1samp(x, mu) \n",
    "print(\"t-statistic = \", t_stat, \", p = \", p)"
   ]
  },
  {
   "cell_type": "code",
   "execution_count": 32,
   "id": "832896f2",
   "metadata": {},
   "outputs": [
    {
     "name": "stdout",
     "output_type": "stream",
     "text": [
      "We Reject null hypothesis\n"
     ]
    }
   ],
   "source": [
    "if p < alpha:    # alpha value is 0.05 or 5%\n",
    "    print(\"We Reject null hypothesis\")\n",
    "else:\n",
    "    print(\"We Accept null hypothesis\")"
   ]
  },
  {
   "cell_type": "markdown",
   "id": "9cb7a04f",
   "metadata": {},
   "source": [
    "## Step2: We can also extract t-critical to compare it with t-statistic"
   ]
  },
  {
   "cell_type": "code",
   "execution_count": 33,
   "id": "9c17d26e",
   "metadata": {},
   "outputs": [
    {
     "data": {
      "text/plain": [
       "2.093024054408263"
      ]
     },
     "execution_count": 33,
     "metadata": {},
     "output_type": "execute_result"
    }
   ],
   "source": [
    "t_crit = stats.t.ppf(1-alpha/2, df) # Since two sided\n",
    "t_crit"
   ]
  },
  {
   "cell_type": "code",
   "execution_count": 34,
   "id": "fcf95ed5",
   "metadata": {},
   "outputs": [
    {
     "name": "stdout",
     "output_type": "stream",
     "text": [
      "We Reject null hypothesis\n"
     ]
    }
   ],
   "source": [
    "if t_stat < t_crit:    # alpha value is 0.05 or 5%\n",
    "    print(\"We Reject null hypothesis\")\n",
    "else:\n",
    "    print(\"We Accept null hypothesis\")"
   ]
  },
  {
   "cell_type": "code",
   "execution_count": 35,
   "id": "b9fe6b92",
   "metadata": {},
   "outputs": [
    {
     "data": {
      "text/plain": [
       "0.3293478404362172"
      ]
     },
     "execution_count": 35,
     "metadata": {},
     "output_type": "execute_result"
    }
   ],
   "source": [
    "#Let us report the 95% confidence intervals as well\n",
    "SE = x_std/(len(x)**0.5)\n",
    "SE"
   ]
  },
  {
   "cell_type": "code",
   "execution_count": 36,
   "id": "2bf1b2cb",
   "metadata": {},
   "outputs": [
    {
     "name": "stdout",
     "output_type": "stream",
     "text": [
      "x_bar = 9.24, 95% CI [8.55, 9.93]\n"
     ]
    }
   ],
   "source": [
    "# margin of error\n",
    "err = t_crit*SE\n",
    "x_low = x_bar - err\n",
    "x_high = x_bar + err\n",
    "print(\"x_bar = {}, 95% CI [{}, {}]\".format(x_bar.round(2), x_low.round(2), x_high.round(2)))"
   ]
  },
  {
   "cell_type": "markdown",
   "id": "c49d3f57",
   "metadata": {},
   "source": [
    "### We can also get CIs by using the in-built function t.interval() function:   Arguments: (conf, df, mean, SE)"
   ]
  },
  {
   "cell_type": "code",
   "execution_count": 37,
   "id": "d1c2e5cc",
   "metadata": {},
   "outputs": [
    {
     "data": {
      "text/plain": [
       "(8.550667047699582, 9.929332952300415)"
      ]
     },
     "execution_count": 37,
     "metadata": {},
     "output_type": "execute_result"
    }
   ],
   "source": [
    "dof = len(x) - 1\n",
    "ci = stats.t.interval(1-alpha, dof, loc=x_bar, scale=SE)\n",
    "ci"
   ]
  },
  {
   "cell_type": "code",
   "execution_count": 38,
   "id": "e273d487",
   "metadata": {},
   "outputs": [
    {
     "name": "stdout",
     "output_type": "stream",
     "text": [
      "CI using scipy:  (8.550667047699582, 9.929332952300415)\n"
     ]
    }
   ],
   "source": [
    "print(\"CI using scipy: \",ci) "
   ]
  },
  {
   "cell_type": "markdown",
   "id": "3e3d8ad8",
   "metadata": {},
   "source": [
    "### Independent (unpaired) two-sample location test with a null hypothesis that the means of the two samples are equal (equal variance assumed)."
   ]
  },
  {
   "cell_type": "markdown",
   "id": "7e0e739e",
   "metadata": {},
   "source": [
    "- The mass of N1=20 acorns from oak trees up wind from a coal power plant and N2=30 acorns from oak trees down wind from the same coal power plant are mesured. Are the acorns from trees downwind less massive then the ones from up wind? This will require a one-tail (on the low/left side) test. The sample sizes are not equal but we will assume that the population variance of sample 1 and sample 2 are equal. If we don't make the assumption of equal variance then we do a Welch's t-test.\n",
    "\n",
    "- H0: x̄1 = x̄2, or x̄2 - x̄1 = 0, that is , there is no difference between the sample means\n",
    "- HA: x̄2 < x̄1, or x̄2 - x̄1 < 0\n",
    "- α = 0.05\n",
    "- t-table\n",
    "\n",
    "- degrees of freedom: df1= N1-1 = 19, df2= N2-1 = 29, df = df1 + df2 = N1 + N2 - 2 = 48\n",
    "\n",
    "- t-critical for specified alpha level: t* = -1.677 (one-tailed, left-side)\n",
    "\n",
    "- t-statistic: t = (x̄2 - x̄1)/(sp sqrt(1/N1 + 1/N2)))\n",
    "\n",
    "- pooled variance: sp = sqrt( ((d1) s12 + (d2) s22)) / df )"
   ]
  },
  {
   "cell_type": "code",
   "execution_count": 39,
   "id": "2ec62b66",
   "metadata": {},
   "outputs": [],
   "source": [
    "# sample up wind\n",
    "x1 = [10.8, 10.0, 8.2, 9.9, 11.6, 10.1, 11.3, 10.3, 10.7, 9.7, \n",
    "      7.8, 9.6, 9.7, 11.6, 10.3, 9.8, 12.3, 11.0, 10.4, 10.4]\n",
    "\n",
    "# sample down wind\n",
    "x2 = [7.8, 7.5, 9.5, 11.7, 8.1, 8.8, 8.8, 7.7, 9.7, 7.0, \n",
    "      9.0, 9.7, 11.3, 8.7, 8.8, 10.9, 10.3, 9.6, 8.4, 6.6,\n",
    "      7.2, 7.6, 11.5, 6.6, 8.6, 10.5, 8.4, 8.5, 10.2, 9.2]"
   ]
  },
  {
   "cell_type": "markdown",
   "id": "0fb7ecb2",
   "metadata": {},
   "source": [
    "- For two independent samples, we should use the inbuilt python function: stats.ttest_ind(x2, x1)\n",
    "- It gives the t statistic and the p-value with which we can directly compare with alpha value\n",
    "- We don't need to calculate anything like x_bar, SE, df etc.\n",
    "- We just need to feed in the data points array and population mean\n",
    "   \n",
    "   **Note**\n",
    "   \n",
    "- For a two-tailed test, we have to compare alpha with p (p is returned for two-tailed by default)\n",
    "- For a one-tailed test, we have to compare alpha with p/2\n",
    "- It means that the p-value returned by this function is two-sided; so the one-sided p value would be p/2"
   ]
  },
  {
   "cell_type": "code",
   "execution_count": 40,
   "id": "c8442546",
   "metadata": {},
   "outputs": [],
   "source": [
    "alpha = 0.05"
   ]
  },
  {
   "cell_type": "code",
   "execution_count": 41,
   "id": "381a1e1c",
   "metadata": {},
   "outputs": [
    {
     "name": "stdout",
     "output_type": "stream",
     "text": [
      "t-statistic =  -3.5981947686898033 ,  p_onesided = 0.0003780168739400732\n"
     ]
    }
   ],
   "source": [
    "t_stat, p_twosided = stats.ttest_ind(x2, x1)\n",
    "p_onesided = p_twosided/2\n",
    "print(\"t-statistic = \",t_stat, \", \", \"p_onesided =\", p_onesided)"
   ]
  },
  {
   "cell_type": "code",
   "execution_count": 42,
   "id": "e8519198",
   "metadata": {},
   "outputs": [
    {
     "name": "stdout",
     "output_type": "stream",
     "text": [
      "We Reject null hypothesis\n"
     ]
    }
   ],
   "source": [
    "if  p_onesided < alpha:    # alpha value is 0.05 or 5%\n",
    "    print(\"We Reject null hypothesis\")\n",
    "else:\n",
    "    print(\"We Accept null hypothesis\")"
   ]
  },
  {
   "cell_type": "markdown",
   "id": "5365a42b",
   "metadata": {},
   "source": [
    "### Paired samples (dependent/repeated measures) t-test with a null hypothesis that the mean difference is a specified constant (usually zero)."
   ]
  },
  {
   "cell_type": "markdown",
   "id": "acbb0425",
   "metadata": {},
   "source": [
    "- The average mass of acorns from the same N=30 trees downwind of a power plant is measured before (xb) and after (xa) the   power plant converts from burning coal to buring natural gas. Does the mass of the acorns increase after the conversion     from coal to natural gas? This will require a one-tail (on the low/left side) test.\n",
    "\n",
    "- H0: x̄a - x̄b = 0, that is , there is no difference between the sample means\n",
    "- HA: x̄a - x̄b > 0\n",
    "- α = 0.05\n",
    "- t-table\n",
    "\n",
    "- degrees of freedom: df = N-1 = 29\n",
    "- t-critical for specified alpha level: t* = 1.677 (one-tailed, right-side)\n",
    "- t-statistic: t = (x̄diff - 0)/(sdiff / sqrt(N))\n",
    "- standard deviation of difference: sd = sqrt(sa2/Na + sb2/Nb)\n",
    "- mean difference: x̄diff = x̄a - x̄b"
   ]
  },
  {
   "cell_type": "code",
   "execution_count": 43,
   "id": "c3328053",
   "metadata": {},
   "outputs": [],
   "source": [
    "# sample before conversion to nat. gas\n",
    "xb = np.array([10.8, 6.4, 8.3, 7.6, 11.4, 9.9, 10.6, 8.7, 8.1, 10.9,\n",
    "      11.0, 11.8, 7.3, 9.6, 9.3, 9.9, 9.0, 9.5, 10.6, 10.3,\n",
    "      8.8, 12.3, 8.9, 10.5, 11.6, 7.6, 8.9, 10.4, 10.2, 8.8])\n",
    "# sample after conversion to nat. gas\n",
    "xa = np.array([10.1, 6.9, 8.6, 8.8, 12.1, 11.3, 12.4, 9.3, 9.3, 10.8,\n",
    "      12.4, 11.5, 7.4, 10.0, 11.1, 10.6, 9.4, 9.5, 10.0, 10.0,\n",
    "      9.7, 13.5, 9.6, 11.6, 11.7, 7.9, 8.6, 10.8, 9.5, 9.6])"
   ]
  },
  {
   "cell_type": "markdown",
   "id": "46801f0c",
   "metadata": {},
   "source": [
    "- For two dependent/paired samples, we should use the inbuilt python function: stats.ttest_rel(x2, x1)\n",
    "- It gives the t statistic and the p-value with which we can directly compare with alpha value\n",
    "- We don't need to calculate anything like x_bar, SE, df etc.\n",
    "- We just need to feed in the data points array and population mean\n",
    "\n",
    "**Note**\n",
    "\n",
    "- For a two-tailed test, we have to compare alpha with p (p is returned for two-tailed by default)\n",
    "- For a one-tailed test, we have to compare alpha with p/2\n",
    "- It means that the p-value returned by this function is two-sided; so the one-sided p value would be p/2"
   ]
  },
  {
   "cell_type": "code",
   "execution_count": 44,
   "id": "b7c5e898",
   "metadata": {},
   "outputs": [
    {
     "name": "stdout",
     "output_type": "stream",
     "text": [
      "t-statistic =  3.905439081326491 , p =  0.0002584344912342189\n"
     ]
    }
   ],
   "source": [
    "t_stat, p_twosided = stats.ttest_rel(xa, xb) \n",
    "p_onesided = p_twosided/2\n",
    "\n",
    "print(\"t-statistic = \", t_stat, \", p = \", p_onesided)"
   ]
  },
  {
   "cell_type": "code",
   "execution_count": 45,
   "id": "0aceaa72",
   "metadata": {},
   "outputs": [
    {
     "name": "stdout",
     "output_type": "stream",
     "text": [
      "We Reject null hypothesis\n"
     ]
    }
   ],
   "source": [
    "if  p_onesided < 0.05:    # if alpha value is 0.05 or 5%\n",
    "    print(\"We Reject null hypothesis\")\n",
    "else:\n",
    "    print(\"We Accept null hypothesis\")"
   ]
  },
  {
   "cell_type": "markdown",
   "id": "e783a3f1",
   "metadata": {},
   "source": [
    "- There is a statistically significant difference between the two samples at the α = 0.05 level."
   ]
  },
  {
   "cell_type": "code",
   "execution_count": 46,
   "id": "5de37188",
   "metadata": {},
   "outputs": [
    {
     "data": {
      "text/plain": [
       "(10.133333333333333, 9.633333333333331)"
      ]
     },
     "execution_count": 46,
     "metadata": {},
     "output_type": "execute_result"
    }
   ],
   "source": [
    "np.mean(xa), np.mean(xb)"
   ]
  },
  {
   "cell_type": "markdown",
   "id": "c1da2ef8",
   "metadata": {},
   "source": [
    "- ttest_1samp : for one sample(x, mu)\n",
    "- stats.ttest_ind : for two samples which are independent(x2, x1, equal_var=True)\n",
    "- stats.ttest_rel : for two samples which are dependent(x2, x1)"
   ]
  },
  {
   "cell_type": "markdown",
   "id": "e98cfeea",
   "metadata": {},
   "source": [
    "***Question***\n",
    " A study was done to see the effect of presence of dogs as pets on kids (ages 10 to 18). Two groups of teenagers, one group with teenagers who owned a dog for minimum 5 years and another group of kids who never owned a dog, were presented a questionnaire and scores were computed. High score corresponds to higher cheerfulness and low score corresponds to lower cheerfulness.\n",
    "\n",
    "Do dogs have a significant effect (+ve or –ve) on the cheerfulness of kids?\n",
    "\n",
    "Dog: 6.6, 7.8, 4.6, 7.8, 7, 8, 9, 9, 8.8, 9.9, 8.5, 7.7, 8.6, 8, 7, 5.8, 7.4\n",
    "\n",
    "No_dog: 9.8, 8.3, 7.1, 7.2, 8.1, 8.9, 6, 7, 7.5, 7.8, 7.6, 7.3, 6.4, 6.8, 7, 6.4, 7.9\n",
    "\n",
    "**Solution:**\n",
    "𝐻_0 : 𝑚_d = 𝑚_nd (pets have no effect on the cheerfulness of kids)\n",
    "\n",
    "𝐻_𝑎 : 𝑚_d ≠ 𝑚_nd (pets have an effect on the cheerfulness of kids)"
   ]
  },
  {
   "cell_type": "code",
   "execution_count": 47,
   "id": "9d72765f",
   "metadata": {},
   "outputs": [],
   "source": [
    "alpha = 0.05"
   ]
  },
  {
   "cell_type": "code",
   "execution_count": 48,
   "id": "aaafe54f",
   "metadata": {},
   "outputs": [],
   "source": [
    "# sample before conversion to nat. gas\n",
    "x_d = np.array([6.6, 7.8, 4.6, 7.8, 7, 8, 9, 9, 8.8, 9.9, 8.5, 7.7, 8.6, 8, 7, 5.8, 7.4])\n",
    "# sample after conversion to nat. gas\n",
    "x_nd = np.array([9.8, 8.3, 7.1, 7.2, 8.1, 8.9, 6, 7, 7.5, 7.8, 7.6, 7.3, 6.4, 6.8, 7, 6.4, 7.9])"
   ]
  },
  {
   "cell_type": "code",
   "execution_count": 49,
   "id": "3bda9b58",
   "metadata": {},
   "outputs": [
    {
     "data": {
      "text/plain": [
       "(17, 17)"
      ]
     },
     "execution_count": 49,
     "metadata": {},
     "output_type": "execute_result"
    }
   ],
   "source": [
    "len(x_d), len(x_nd)"
   ]
  },
  {
   "cell_type": "code",
   "execution_count": 50,
   "id": "116347d7",
   "metadata": {},
   "outputs": [
    {
     "data": {
      "text/plain": [
       "32"
      ]
     },
     "execution_count": 50,
     "metadata": {},
     "output_type": "execute_result"
    }
   ],
   "source": [
    "dof = len(x_d) + len(x_nd) - 2\n",
    "dof"
   ]
  },
  {
   "cell_type": "code",
   "execution_count": 51,
   "id": "c19c2f5e",
   "metadata": {},
   "outputs": [
    {
     "name": "stdout",
     "output_type": "stream",
     "text": [
      "0.6665710337435845 0.5098239300755949\n"
     ]
    }
   ],
   "source": [
    "t_stat, p_twosided = stats.ttest_ind(x_d, x_nd)\n",
    "print(t_stat, p_twosided)"
   ]
  },
  {
   "cell_type": "code",
   "execution_count": 52,
   "id": "52968856",
   "metadata": {},
   "outputs": [
    {
     "name": "stdout",
     "output_type": "stream",
     "text": [
      "We Accept null hypothesis\n"
     ]
    }
   ],
   "source": [
    "if  p_twosided < alpha:   \n",
    "    print(\"We Reject null hypothesis\")\n",
    "else:\n",
    "    print(\"We Accept null hypothesis\")"
   ]
  },
  {
   "cell_type": "markdown",
   "id": "1b73b64d",
   "metadata": {},
   "source": [
    "##  Hence, we could not prove that pets either increase or decrease the cheerfulness of kids"
   ]
  },
  {
   "cell_type": "code",
   "execution_count": 54,
   "id": "6eb6b445",
   "metadata": {},
   "outputs": [
    {
     "data": {
      "text/plain": [
       "2.036933343460101"
      ]
     },
     "execution_count": 54,
     "metadata": {},
     "output_type": "execute_result"
    }
   ],
   "source": [
    "#we can compare t_stat with t_crit\n",
    "t_crit = stats.t.ppf(1-alpha/2, dof) # Since two sided\n",
    "t_crit"
   ]
  },
  {
   "cell_type": "code",
   "execution_count": 55,
   "id": "2fa366cb",
   "metadata": {},
   "outputs": [
    {
     "name": "stdout",
     "output_type": "stream",
     "text": [
      "Wec Accept null hypothesis\n"
     ]
    }
   ],
   "source": [
    "if t_stat >= t_crit:\n",
    "    print(\"We Reject null hypothesis\")\n",
    "else:\n",
    "    print(\"Wec Accept null hypothesis\")"
   ]
  }
 ],
 "metadata": {
  "kernelspec": {
   "display_name": "Python 3 (ipykernel)",
   "language": "python",
   "name": "python3"
  },
  "language_info": {
   "codemirror_mode": {
    "name": "ipython",
    "version": 3
   },
   "file_extension": ".py",
   "mimetype": "text/x-python",
   "name": "python",
   "nbconvert_exporter": "python",
   "pygments_lexer": "ipython3",
   "version": "3.9.12"
  }
 },
 "nbformat": 4,
 "nbformat_minor": 5
}
